{
 "cells": [
  {
   "cell_type": "markdown",
   "metadata": {},
   "source": [
    "# Import"
   ]
  },
  {
   "cell_type": "code",
   "execution_count": 2,
   "metadata": {},
   "outputs": [],
   "source": [
    "# Spotify\n",
    "import spotipy\n",
    "import sys\n",
    "from spotipy.oauth2 import SpotifyClientCredentials\n",
    "\n",
    "# Analysis/ NLP\n",
    "import colorama\n",
    "from colorama import Fore\n",
    "import textblob\n",
    "from textblob import TextBlob"
   ]
  },
  {
   "cell_type": "markdown",
   "metadata": {},
   "source": [
    "# Initialize Spotify API"
   ]
  },
  {
   "cell_type": "code",
   "execution_count": 3,
   "metadata": {},
   "outputs": [],
   "source": [
    "# Credentials | localhost:8888/callback\n",
    "# Might need to export + echo @ bash\n",
    "client_id = \"b15c3df4e7ca45ce90842a6f53c7aab5\"\n",
    "client_secret = \"1adde56dad574412a57f93f987279d6d\"\n",
    "\n",
    "client_credentials_manager = SpotifyClientCredentials(client_id=client_id, client_secret=client_secret)\n",
    "spot = spotipy.Spotify(client_credentials_manager=client_credentials_manager)"
   ]
  },
  {
   "cell_type": "markdown",
   "metadata": {},
   "source": [
    "# Search for Songs"
   ]
  },
  {
   "cell_type": "code",
   "execution_count": 7,
   "metadata": {},
   "outputs": [
    {
     "ename": "SyntaxError",
     "evalue": "f-string: expecting '}' (1889961693.py, line 26)",
     "output_type": "error",
     "traceback": [
      "\u001b[1;36m  Cell \u001b[1;32mIn[7], line 26\u001b[1;36m\u001b[0m\n\u001b[1;33m    print(Fore.BLUE + f\"{i}. {track['name']} by {\", \".join([artist['name'] for artist in track['artists']])}\")\u001b[0m\n\u001b[1;37m                      ^\u001b[0m\n\u001b[1;31mSyntaxError\u001b[0m\u001b[1;31m:\u001b[0m f-string: expecting '}'\n"
     ]
    }
   ],
   "source": [
    "def search_songs(query, search_type = \"track\", limit = 10):\n",
    "\n",
    "    try:\n",
    "        results = spot.search(q = query, type = search_type, limit = limit)\n",
    "        return results\n",
    "    \n",
    "    except Exception as e:\n",
    "        print(Fore.RED + \"Error\", str(e))\n",
    "        return None\n",
    "\n",
    "def show_results(results):\n",
    "    if results is None:\n",
    "        return \n",
    "\n",
    "    if \"tracks\" in results:\n",
    "        tracks = results[\"tracks\"][\"items\"]\n",
    "\n",
    "        if not tracks:\n",
    "            print(Fore.YELLOW + \"N/A\")\n",
    "            return\n",
    "        \n",
    "        print(Fore.GREEN + f\"Found {len(tracks)} {search_type}s:\")\n",
    "\n",
    "        for i, track in enumerate(tracks, 1):\n",
    "\n",
    "            print(Fore.BLUE + f\"{i}. {track['name']} by {\", \".join([artist['name'] for artist in track['artists']])}\")\n",
    "            print(Fore.MAGENTA + f\"   Album: {track['album']['name']}\")\n",
    "            print(Fore.MAGENTA + f\"   Release Date: {track['album']['release_date']}\")\n",
    "            print(Fore.MAGENTA + f\"   Popularity: {track['popularity']}\")\n",
    "            print()\n",
    "\n",
    "if __name__ == \"__main__\":\n",
    "    query = input(Fore.CYAN + \"Enter artist name: \")\n",
    "    search_type = input(Fore.CYAN + \"Search for (song/album/artist): \").lower()\n",
    "\n",
    "    if search_type not in ['song', 'album', 'artist']:\n",
    "        search_type = \"track\"\n",
    "\n",
    "    limit = int(input(Fore.CYAN + \"Maximum number of results to display: \"))\n",
    "\n",
    "    results = search_songs(query, search_type, limit)\n",
    "    show_results(results)"
   ]
  },
  {
   "cell_type": "markdown",
   "metadata": {},
   "source": [
    "# Get Artist's Face Using Artist's Name"
   ]
  },
  {
   "cell_type": "code",
   "execution_count": null,
   "metadata": {},
   "outputs": [],
   "source": [
    "spotify = spotipy.Spotify(auth_manager=SpotifyClientCredentials())\n",
    "\n",
    "if len(sys.argv) > 1:\n",
    "    name = ' '.join(sys.argv[1:])\n",
    "else:\n",
    "    name = 'Taylor Swift'\n",
    "\n",
    "results = spotify.search(q='artist:' + name, type='artist')\n",
    "items = results['artists']['items']\n",
    "if len(items) > 0:\n",
    "    artist = items[0]\n",
    "    print(artist['name'], artist['images'][0]['url'])"
   ]
  }
 ],
 "metadata": {
  "kernelspec": {
   "display_name": "base",
   "language": "python",
   "name": "python3"
  },
  "language_info": {
   "codemirror_mode": {
    "name": "ipython",
    "version": 3
   },
   "file_extension": ".py",
   "mimetype": "text/x-python",
   "name": "python",
   "nbconvert_exporter": "python",
   "pygments_lexer": "ipython3",
   "version": "3.8.8"
  }
 },
 "nbformat": 4,
 "nbformat_minor": 2
}








